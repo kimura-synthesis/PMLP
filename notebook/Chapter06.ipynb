{
 "cells": [
  {
   "cell_type": "code",
   "execution_count": 64,
   "metadata": {
    "ExecuteTime": {
     "end_time": "2018-01-21T12:07:57.178658Z",
     "start_time": "2018-01-21T12:07:57.167658Z"
    },
    "slideshow": {
     "slide_type": "skip"
    }
   },
   "outputs": [],
   "source": [
    "%matplotlib inline\n",
    "import numpy as np\n",
    "import matplotlib.pyplot as plt\n",
    "import pandas as pd\n",
    "\n",
    "from os.path import isdir, isfile, basename\n",
    "from os import mkdir\n",
    "import urllib\n",
    "from io import StringIO, BytesIO"
   ]
  },
  {
   "cell_type": "markdown",
   "metadata": {
    "slideshow": {
     "slide_type": "slide"
    }
   },
   "source": [
    "# モデルの評価とハイパーパラメータのチューニングのベストプラクティス\n",
    "\n",
    "* モデルの性能の偏りのない推定量の算出\n",
    "* 機械学習のアルゴリズムに共通する問題の診断\n",
    "* 機械学習のモデルのチューニング\n",
    "* さまざまな性能指標による予測モデルの評価"
   ]
  },
  {
   "cell_type": "markdown",
   "metadata": {
    "slideshow": {
     "slide_type": "slide"
    }
   },
   "source": [
    "## 本題の前に、`scikit-learn.Pipeline` の紹介\n",
    "<img src=\"images/06_01.png\" />"
   ]
  },
  {
   "cell_type": "markdown",
   "metadata": {
    "slideshow": {
     "slide_type": "subslide"
    }
   },
   "source": [
    "# 機械学習の前処理\n",
    "\n",
    "1. データの標準化\n",
    "2. 特徴量の次元削減\n",
    "3. 分類器へ入力\n",
    "\n",
    "一連の流れを `pipeline` として定義する。"
   ]
  },
  {
   "cell_type": "code",
   "execution_count": 65,
   "metadata": {
    "ExecuteTime": {
     "end_time": "2018-01-21T10:49:03.439173Z",
     "start_time": "2018-01-21T10:49:03.429188Z"
    },
    "slideshow": {
     "slide_type": "fragment"
    }
   },
   "outputs": [],
   "source": [
    "from sklearn.preprocessing import StandardScaler\n",
    "from sklearn.decomposition import PCA\n",
    "from sklearn.linear_model  import LogisticRegression\n",
    "from sklearn.pipeline import Pipeline\n",
    "\n",
    "# スケーリング -> PCA(次元削減) -> ロジスティック回帰　のパイプライン\n",
    "pipe_lr = Pipeline([('Sclaer', StandardScaler()),\n",
    "                    ('Decomposition', PCA(n_components=5)),\n",
    "                    ('Classifier', LogisticRegression(random_state=1))])"
   ]
  },
  {
   "cell_type": "markdown",
   "metadata": {
    "slideshow": {
     "slide_type": "slide"
    }
   },
   "source": [
    "## データの準備"
   ]
  },
  {
   "cell_type": "markdown",
   "metadata": {
    "slideshow": {
     "slide_type": "subslide"
    }
   },
   "source": [
    "### データの読み込み"
   ]
  },
  {
   "cell_type": "code",
   "execution_count": 66,
   "metadata": {
    "ExecuteTime": {
     "end_time": "2018-01-21T10:49:03.488192Z",
     "start_time": "2018-01-21T10:49:03.441190Z"
    },
    "slideshow": {
     "slide_type": "fragment"
    }
   },
   "outputs": [
    {
     "data": {
      "text/html": [
       "<div>\n",
       "<style scoped>\n",
       "    .dataframe tbody tr th:only-of-type {\n",
       "        vertical-align: middle;\n",
       "    }\n",
       "\n",
       "    .dataframe tbody tr th {\n",
       "        vertical-align: top;\n",
       "    }\n",
       "\n",
       "    .dataframe thead th {\n",
       "        text-align: right;\n",
       "    }\n",
       "</style>\n",
       "<table border=\"1\" class=\"dataframe\">\n",
       "  <thead>\n",
       "    <tr style=\"text-align: right;\">\n",
       "      <th></th>\n",
       "      <th>0</th>\n",
       "      <th>1</th>\n",
       "      <th>2</th>\n",
       "      <th>3</th>\n",
       "      <th>4</th>\n",
       "      <th>5</th>\n",
       "      <th>6</th>\n",
       "      <th>7</th>\n",
       "      <th>8</th>\n",
       "      <th>9</th>\n",
       "      <th>...</th>\n",
       "      <th>22</th>\n",
       "      <th>23</th>\n",
       "      <th>24</th>\n",
       "      <th>25</th>\n",
       "      <th>26</th>\n",
       "      <th>27</th>\n",
       "      <th>28</th>\n",
       "      <th>29</th>\n",
       "      <th>30</th>\n",
       "      <th>31</th>\n",
       "    </tr>\n",
       "  </thead>\n",
       "  <tbody>\n",
       "    <tr>\n",
       "      <th>0</th>\n",
       "      <td>842302</td>\n",
       "      <td>M</td>\n",
       "      <td>17.99</td>\n",
       "      <td>10.38</td>\n",
       "      <td>122.80</td>\n",
       "      <td>1001.0</td>\n",
       "      <td>0.11840</td>\n",
       "      <td>0.27760</td>\n",
       "      <td>0.3001</td>\n",
       "      <td>0.14710</td>\n",
       "      <td>...</td>\n",
       "      <td>25.38</td>\n",
       "      <td>17.33</td>\n",
       "      <td>184.60</td>\n",
       "      <td>2019.0</td>\n",
       "      <td>0.1622</td>\n",
       "      <td>0.6656</td>\n",
       "      <td>0.7119</td>\n",
       "      <td>0.2654</td>\n",
       "      <td>0.4601</td>\n",
       "      <td>0.11890</td>\n",
       "    </tr>\n",
       "    <tr>\n",
       "      <th>1</th>\n",
       "      <td>842517</td>\n",
       "      <td>M</td>\n",
       "      <td>20.57</td>\n",
       "      <td>17.77</td>\n",
       "      <td>132.90</td>\n",
       "      <td>1326.0</td>\n",
       "      <td>0.08474</td>\n",
       "      <td>0.07864</td>\n",
       "      <td>0.0869</td>\n",
       "      <td>0.07017</td>\n",
       "      <td>...</td>\n",
       "      <td>24.99</td>\n",
       "      <td>23.41</td>\n",
       "      <td>158.80</td>\n",
       "      <td>1956.0</td>\n",
       "      <td>0.1238</td>\n",
       "      <td>0.1866</td>\n",
       "      <td>0.2416</td>\n",
       "      <td>0.1860</td>\n",
       "      <td>0.2750</td>\n",
       "      <td>0.08902</td>\n",
       "    </tr>\n",
       "    <tr>\n",
       "      <th>2</th>\n",
       "      <td>84300903</td>\n",
       "      <td>M</td>\n",
       "      <td>19.69</td>\n",
       "      <td>21.25</td>\n",
       "      <td>130.00</td>\n",
       "      <td>1203.0</td>\n",
       "      <td>0.10960</td>\n",
       "      <td>0.15990</td>\n",
       "      <td>0.1974</td>\n",
       "      <td>0.12790</td>\n",
       "      <td>...</td>\n",
       "      <td>23.57</td>\n",
       "      <td>25.53</td>\n",
       "      <td>152.50</td>\n",
       "      <td>1709.0</td>\n",
       "      <td>0.1444</td>\n",
       "      <td>0.4245</td>\n",
       "      <td>0.4504</td>\n",
       "      <td>0.2430</td>\n",
       "      <td>0.3613</td>\n",
       "      <td>0.08758</td>\n",
       "    </tr>\n",
       "    <tr>\n",
       "      <th>3</th>\n",
       "      <td>84348301</td>\n",
       "      <td>M</td>\n",
       "      <td>11.42</td>\n",
       "      <td>20.38</td>\n",
       "      <td>77.58</td>\n",
       "      <td>386.1</td>\n",
       "      <td>0.14250</td>\n",
       "      <td>0.28390</td>\n",
       "      <td>0.2414</td>\n",
       "      <td>0.10520</td>\n",
       "      <td>...</td>\n",
       "      <td>14.91</td>\n",
       "      <td>26.50</td>\n",
       "      <td>98.87</td>\n",
       "      <td>567.7</td>\n",
       "      <td>0.2098</td>\n",
       "      <td>0.8663</td>\n",
       "      <td>0.6869</td>\n",
       "      <td>0.2575</td>\n",
       "      <td>0.6638</td>\n",
       "      <td>0.17300</td>\n",
       "    </tr>\n",
       "    <tr>\n",
       "      <th>4</th>\n",
       "      <td>84358402</td>\n",
       "      <td>M</td>\n",
       "      <td>20.29</td>\n",
       "      <td>14.34</td>\n",
       "      <td>135.10</td>\n",
       "      <td>1297.0</td>\n",
       "      <td>0.10030</td>\n",
       "      <td>0.13280</td>\n",
       "      <td>0.1980</td>\n",
       "      <td>0.10430</td>\n",
       "      <td>...</td>\n",
       "      <td>22.54</td>\n",
       "      <td>16.67</td>\n",
       "      <td>152.20</td>\n",
       "      <td>1575.0</td>\n",
       "      <td>0.1374</td>\n",
       "      <td>0.2050</td>\n",
       "      <td>0.4000</td>\n",
       "      <td>0.1625</td>\n",
       "      <td>0.2364</td>\n",
       "      <td>0.07678</td>\n",
       "    </tr>\n",
       "  </tbody>\n",
       "</table>\n",
       "<p>5 rows × 32 columns</p>\n",
       "</div>"
      ],
      "text/plain": [
       "         0  1      2      3       4       5        6        7       8   \\\n",
       "0    842302  M  17.99  10.38  122.80  1001.0  0.11840  0.27760  0.3001   \n",
       "1    842517  M  20.57  17.77  132.90  1326.0  0.08474  0.07864  0.0869   \n",
       "2  84300903  M  19.69  21.25  130.00  1203.0  0.10960  0.15990  0.1974   \n",
       "3  84348301  M  11.42  20.38   77.58   386.1  0.14250  0.28390  0.2414   \n",
       "4  84358402  M  20.29  14.34  135.10  1297.0  0.10030  0.13280  0.1980   \n",
       "\n",
       "        9    ...        22     23      24      25      26      27      28  \\\n",
       "0  0.14710   ...     25.38  17.33  184.60  2019.0  0.1622  0.6656  0.7119   \n",
       "1  0.07017   ...     24.99  23.41  158.80  1956.0  0.1238  0.1866  0.2416   \n",
       "2  0.12790   ...     23.57  25.53  152.50  1709.0  0.1444  0.4245  0.4504   \n",
       "3  0.10520   ...     14.91  26.50   98.87   567.7  0.2098  0.8663  0.6869   \n",
       "4  0.10430   ...     22.54  16.67  152.20  1575.0  0.1374  0.2050  0.4000   \n",
       "\n",
       "       29      30       31  \n",
       "0  0.2654  0.4601  0.11890  \n",
       "1  0.1860  0.2750  0.08902  \n",
       "2  0.2430  0.3613  0.08758  \n",
       "3  0.2575  0.6638  0.17300  \n",
       "4  0.1625  0.2364  0.07678  \n",
       "\n",
       "[5 rows x 32 columns]"
      ]
     },
     "execution_count": 66,
     "metadata": {},
     "output_type": "execute_result"
    }
   ],
   "source": [
    "# 乳癌のデータセットを読み込む\n",
    "DATAFILE = \"https://archive.ics.uci.edu/ml/machine-learning-databases/breast-cancer-wisconsin/wdbc.data\"\n",
    "DATACACHE = 'cache/' + basename(DATAFILE)\n",
    "if isfile(DATACACHE):\n",
    "    df = pd.read_csv(DATACACHE, header=None)\n",
    "else:\n",
    "    req = urllib.request.urlopen(DATAFILE)\n",
    "    data = req.read()\n",
    "\n",
    "    df = pd.read_csv(BytesIO(data), header=None)\n",
    "    if not isdir('cache'):\n",
    "        mkdir('cache')\n",
    "    with open(DATACACHE, \"wb\") as cache:\n",
    "        cache.write(data)\n",
    "    \n",
    "# 0列目 id\n",
    "# 1列目 診断結果 M:悪性 B:良性\n",
    "df.head()"
   ]
  },
  {
   "cell_type": "markdown",
   "metadata": {
    "slideshow": {
     "slide_type": "subslide"
    }
   },
   "source": [
    "### クラスラベルの数値化\n",
    "4 章で紹介した LabelEncoder を用いている"
   ]
  },
  {
   "cell_type": "code",
   "execution_count": 67,
   "metadata": {
    "ExecuteTime": {
     "end_time": "2018-01-21T10:49:03.504190Z",
     "start_time": "2018-01-21T10:49:03.491193Z"
    },
    "slideshow": {
     "slide_type": "fragment"
    }
   },
   "outputs": [],
   "source": [
    "from sklearn.preprocessing import LabelEncoder\n",
    "# df.loc のスライス指定には (slice(None, None, None), slice(2, None, None)) が渡されている\n",
    "# sliceオブジェクトは [begin, end) の区間と step を表している。下記例では\n",
    "# - 0 番目のインデックスについては区間指定無し(全域)\n",
    "# - 1 番目のインデックスについては2から最後まで\n",
    "\n",
    "# 実際は loc を経由しなくても df.values[:, 2:] で同じデータは得られる\n",
    "X = df.loc[:, 2:].values\n",
    "\n",
    "# 1 列目(クラスラベル)のみ取り出す\n",
    "y_orig = df.loc[:, 1].values # クラスラベル ('M' or 'B')\n",
    "le = LabelEncoder()\n",
    "y = le.fit_transform(y_orig) # 数値にエンコードしたクラスラベル ('1' or '0')"
   ]
  },
  {
   "cell_type": "markdown",
   "metadata": {
    "slideshow": {
     "slide_type": "fragment"
    }
   },
   "source": [
    "どのようにラベルがエンコードされるかは `LabelEncoder.tranform` メソッドで確認できる。"
   ]
  },
  {
   "cell_type": "code",
   "execution_count": 68,
   "metadata": {
    "ExecuteTime": {
     "end_time": "2018-01-21T10:57:39.859469Z",
     "start_time": "2018-01-21T10:57:39.852453Z"
    },
    "slideshow": {
     "slide_type": "fragment"
    }
   },
   "outputs": [
    {
     "data": {
      "text/plain": [
       "array([1, 0], dtype=int64)"
      ]
     },
     "execution_count": 68,
     "metadata": {},
     "output_type": "execute_result"
    }
   ],
   "source": [
    "le.transform(['M', 'B'])"
   ]
  },
  {
   "cell_type": "code",
   "execution_count": 69,
   "metadata": {
    "ExecuteTime": {
     "end_time": "2018-01-21T10:49:03.504190Z",
     "start_time": "2018-01-21T10:49:03.491193Z"
    },
    "slideshow": {
     "slide_type": "fragment"
    }
   },
   "outputs": [],
   "source": [
    "# 学習データとテストデータに分割\n",
    "from sklearn.model_selection import train_test_split\n",
    "X_train, X_test, y_train, y_test = train_test_split(X, y, test_size=0.20, random_state=1)"
   ]
  },
  {
   "cell_type": "markdown",
   "metadata": {
    "slideshow": {
     "slide_type": "subslide"
    }
   },
   "source": [
    "## 学習と分類の実行"
   ]
  },
  {
   "cell_type": "code",
   "execution_count": 70,
   "metadata": {
    "ExecuteTime": {
     "end_time": "2018-01-21T10:49:03.520195Z",
     "start_time": "2018-01-21T10:49:03.506194Z"
    },
    "slideshow": {
     "slide_type": "fragment"
    }
   },
   "outputs": [
    {
     "name": "stdout",
     "output_type": "stream",
     "text": [
      "Test accuracy: 0.974\n"
     ]
    }
   ],
   "source": [
    "pipe_lr.fit(X_train, y_train) # fit メソッドで学習\n",
    "print(\"Test accuracy: %.3f\" % pipe_lr.score(X_test, y_test))"
   ]
  },
  {
   "cell_type": "markdown",
   "metadata": {
    "slideshow": {
     "slide_type": "slide"
    }
   },
   "source": [
    "# 本題 -学習したモデルの性能評価-"
   ]
  },
  {
   "cell_type": "markdown",
   "metadata": {
    "slideshow": {
     "slide_type": "subslide"
    }
   },
   "source": [
    "## ホールド・アウト法"
   ]
  },
  {
   "cell_type": "markdown",
   "metadata": {
    "slideshow": {
     "slide_type": "subslide"
    }
   },
   "source": [
    "## k 分割交差検証"
   ]
  },
  {
   "cell_type": "code",
   "execution_count": 71,
   "metadata": {
    "ExecuteTime": {
     "end_time": "2018-01-21T11:47:24.117947Z",
     "start_time": "2018-01-21T11:47:24.057946Z"
    },
    "slideshow": {
     "slide_type": "subslide"
    }
   },
   "outputs": [
    {
     "name": "stdout",
     "output_type": "stream",
     "text": [
      "Fold: 01, Class dist.: [256 153], Acc: 0.935\n",
      "Fold: 02, Class dist.: [256 153], Acc: 0.957\n",
      "Fold: 03, Class dist.: [256 153], Acc: 0.978\n",
      "Fold: 04, Class dist.: [256 153], Acc: 0.935\n",
      "Fold: 05, Class dist.: [256 153], Acc: 0.978\n",
      "Fold: 06, Class dist.: [257 153], Acc: 1.000\n",
      "Fold: 07, Class dist.: [257 153], Acc: 0.978\n",
      "Fold: 08, Class dist.: [257 153], Acc: 0.978\n",
      "Fold: 09, Class dist.: [257 153], Acc: 1.000\n",
      "Fold: 10, Class dist.: [257 153], Acc: 0.978\n",
      "CV accuracy: 0.972 +/- 0.022\n"
     ]
    }
   ],
   "source": [
    "from sklearn.model_selection import StratifiedKFold\n",
    "\n",
    "# 分割元データ、分割数、乱数生成器の状態を指定し、\n",
    "# 層化 k 分割交差検証イテレータを表す StratifiedKFold クラスをインスタンス化する\n",
    "# version >= 0.19 では API が変更されている。\n",
    "kfold = StratifiedKFold(n_splits=10, random_state=1).split(X_train, y_train)\n",
    "\n",
    "scores = []\n",
    "# イテレータのインデックスと要素をループ処理\n",
    "for k, (train, test) in enumerate(kfold):\n",
    "    # データをモデルに適合\n",
    "    pipe_lr.fit(X_train[train], y_train[train])\n",
    "    # テストデータの正解率を算出\n",
    "    score = pipe_lr.score(X_train[test], y_train[test])\n",
    "    scores.append(score)\n",
    "    print('Fold: %02d, Class dist.: %s, Acc: %.3f' %\n",
    "         (k + 1, np.bincount(y_train[train]), score))\n",
    "    \n",
    "# 正解率の平均と標準偏差を出力\n",
    "print('CV accuracy: %.3f +/- %.3f' % (np.mean(scores), np.std(scores)))"
   ]
  },
  {
   "cell_type": "code",
   "execution_count": 72,
   "metadata": {
    "ExecuteTime": {
     "end_time": "2018-01-21T12:02:35.281988Z",
     "start_time": "2018-01-21T12:02:35.175489Z"
    },
    "slideshow": {
     "slide_type": "subslide"
    }
   },
   "outputs": [
    {
     "name": "stdout",
     "output_type": "stream",
     "text": [
      "CV accuracy scores: [0.93478261 0.95652174 0.97826087 0.93478261 0.97826087 1.\n",
      " 0.97777778 0.97777778 1.         0.97777778]\n",
      "CV accuracy: 0.972 +/- 0.022\n"
     ]
    }
   ],
   "source": [
    "from sklearn.model_selection import cross_val_score\n",
    "\n",
    "scores_cv = cross_val_score(estimator=pipe_lr,\n",
    "                           X=X_train,\n",
    "                           y=y_train,\n",
    "                           cv=10,\n",
    "                           n_jobs=1)\n",
    "\n",
    "print('CV accuracy scores: %s' % scores_cv)\n",
    "print('CV accuracy: %.3f +/- %.3f' % (np.mean(scores_cv), np.std(scores_cv)))"
   ]
  },
  {
   "cell_type": "markdown",
   "metadata": {
    "slideshow": {
     "slide_type": "slide"
    }
   },
   "source": [
    "# 学習曲線と検証曲線によるアルゴリズムの診断"
   ]
  },
  {
   "cell_type": "markdown",
   "metadata": {
    "slideshow": {
     "slide_type": "slide"
    }
   },
   "source": [
    "## 学習曲線を使ってバイアスとバリアンスの問題を診断する"
   ]
  },
  {
   "cell_type": "code",
   "execution_count": 73,
   "metadata": {
    "ExecuteTime": {
     "end_time": "2018-01-21T13:17:47.578385Z",
     "start_time": "2018-01-21T13:17:47.505384Z"
    },
    "slideshow": {
     "slide_type": "subslide"
    }
   },
   "outputs": [],
   "source": [
    "from sklearn.learning_curve import learning_curve\n",
    "pipe_lr = Pipeline([('Scaler', StandardScaler()),\n",
    "                    ('Classifier', LogisticRegression(penalty='l2', random_state=0))])\n",
    "\n",
    "def draw_learning_curve():\n",
    "    train_sizes, train_scores, test_scores = learning_curve(estimator=pipe_lr, X=X_train, y=y_train,\n",
    "                                                            train_sizes=np.linspace(0.1, 1.0, 10),\n",
    "                                                            cv=10, n_jobs=1)\n",
    "\n",
    "    train_mean, train_std = np.mean(train_scores, axis=1), np.std(train_scores, axis=1)\n",
    "    test_mean, test_std = np.mean(test_scores, axis=1), np.std(test_scores, axis=1)\n",
    "\n",
    "    fig = plt.figure(figsize=(12, 9))\n",
    "    ax = fig.add_subplot(111)\n",
    "    ax.plot(train_sizes, train_mean, color='blue', marker='o', markersize=5, label='training accuracy')\n",
    "    ax.fill_between(train_sizes, train_mean + train_std, train_mean - train_std,\n",
    "                    alpha=0.15, color='blue')\n",
    "    \n",
    "    ax.plot(train_sizes, test_mean, color='green', linestyle='--',\n",
    "            marker='s', markersize=5, label='validation accuracy')\n",
    "    ax.fill_between(train_sizes, test_mean + test_std, test_mean - test_std,\n",
    "                    alpha=0.15, color='green')\n",
    "    ax.grid()\n",
    "    ax.set_xlabel('Number of training samples', fontsize=20)\n",
    "    ax.set_ylabel('Accuracy', fontsize=20)\n",
    "      \n",
    "    ax.legend(loc='lower right', fontsize=15)\n",
    "    ax.set_ylim((0.8, 1.0))\n",
    "    for ticks in ax.xaxis.get_major_ticks():\n",
    "        ticks.label.set_fontsize(15)\n",
    "    for ticks in ax.yaxis.get_major_ticks():\n",
    "        ticks.label.set_fontsize(15)\n",
    "    plt.show()"
   ]
  },
  {
   "cell_type": "code",
   "execution_count": 74,
   "metadata": {
    "ExecuteTime": {
     "end_time": "2018-01-21T13:17:54.138386Z",
     "start_time": "2018-01-21T13:17:53.491386Z"
    },
    "slideshow": {
     "slide_type": "subslide"
    }
   },
   "outputs": [
    {
     "data": {
      "image/png": "[encoded data removed]",
      "text/plain": [
       "<matplotlib.figure.Figure at 0x1b312a1ba58>"
      ]
     },
     "metadata": {},
     "output_type": "display_data"
    }
   ],
   "source": [
    "draw_learning_curve()"
   ]
  },
  {
   "cell_type": "markdown",
   "metadata": {
    "slideshow": {
     "slide_type": "slide"
    }
   },
   "source": [
    "## 検証曲線を使って過学習と学習不足を明らかにする"
   ]
  },
  {
   "cell_type": "code",
   "execution_count": 120,
   "metadata": {
    "ExecuteTime": {
     "end_time": "2018-01-21T13:17:47.578385Z",
     "start_time": "2018-01-21T13:17:47.505384Z"
    },
    "slideshow": {
     "slide_type": "subslide"
    }
   },
   "outputs": [],
   "source": [
    "from sklearn.learning_curve import validation_curve\n",
    "\n",
    "param_range = 10.0 ** np.arange(-3, 3)\n",
    "train_scores, test_scores = validation_curve(estimator=pipe_lr, X=X_train, y=y_train,\n",
    "                                             param_name='Classifier__C',\n",
    "                                             param_range=param_range,\n",
    "                                             cv=10, n_jobs=1)\n",
    "\n",
    "train_mean, train_std = np.mean(train_scores, axis=1), np.std(train_scores, axis=1)\n",
    "test_mean, test_std = np.mean(test_scores, axis=1), np.std(test_scores, axis=1)\n",
    "\n",
    "\n",
    "def draw_validation_curve(param_range, train_mean, train_std, test_mean, test_std):\n",
    "    \n",
    "    fig = plt.figure(figsize=(12, 9))\n",
    "    ax = fig.add_subplot(111)\n",
    "    ax.plot(param_range, train_mean, color='blue', marker='o', markersize=5, label='training accuracy')\n",
    "    ax.fill_between(param_range, train_mean + train_std, train_mean - train_std,\n",
    "                    alpha=0.15, color='blue')\n",
    "    \n",
    "    ax.plot(param_range, test_mean, color='green', linestyle='--',\n",
    "            marker='s', markersize=5, label='validation accuracy')\n",
    "    ax.fill_between(param_range, test_mean + test_std, test_mean - test_std,\n",
    "                    alpha=0.15, color='green')\n",
    "    ax.grid()\n",
    "    ax.set_xlabel('Parameter C', fontsize=20)\n",
    "    ax.set_ylabel('Accuracy', fontsize=20)\n",
    "      \n",
    "    ax.legend(loc='lower right', fontsize=15)\n",
    "    ax.set_xscale('log')\n",
    "    ax.set_ylim((0.875, 1.0))\n",
    "    for ticks in ax.xaxis.get_major_ticks():\n",
    "        ticks.label.set_fontsize(15)\n",
    "    for ticks in ax.yaxis.get_major_ticks():\n",
    "        ticks.label.set_fontsize(15)\n",
    "    plt.show()"
   ]
  },
  {
   "cell_type": "code",
   "execution_count": 121,
   "metadata": {},
   "outputs": [
    {
     "data": {
      "image/png": "[encoded data removed]",
      "text/plain": [
       "<matplotlib.figure.Figure at 0x1b30d347a90>"
      ]
     },
     "metadata": {},
     "output_type": "display_data"
    }
   ],
   "source": [
    "draw_validation_curve(param_range, train_mean, train_std, test_mean, test_std)"
   ]
  },
  {
   "cell_type": "markdown",
   "metadata": {
    "slideshow": {
     "slide_type": "slide"
    }
   },
   "source": [
    "# グリッドサーチによる機械学習モデルのチューニング"
   ]
  },
  {
   "cell_type": "markdown",
   "metadata": {},
   "source": [
    "## グリッドサーチを使ってハイパーパラメータをチューニングする\n",
    "\n",
    "* ハイパーパラメータの考えられる組み合わせについて、最適なパラメータを虱潰し\n",
    "* つまり計算コスト高い"
   ]
  },
  {
   "cell_type": "code",
   "execution_count": 119,
   "metadata": {},
   "outputs": [
    {
     "name": "stdout",
     "output_type": "stream",
     "text": [
      "Best score:  0.978021978021978\n",
      "Best parameters:  {'Classifier__C': 0.1, 'Classifier__kernel': 'linear'}\n"
     ]
    }
   ],
   "source": [
    "from sklearn.grid_search import GridSearchCV\n",
    "from sklearn.svm import SVC\n",
    "\n",
    "stages = [\n",
    "    ('Scaler', StandardScaler()),\n",
    "    ('Classifier', SVC(random_state=1))\n",
    "]\n",
    "pipe_svc = Pipeline(stages)\n",
    "param_range = 10.0 ** np.arange(-4, 4)\n",
    "param_grid = [\n",
    "    {'Classifier__C': param_range, 'Classifier__kernel': ['linear']},\n",
    "    {'Classifier__C': param_range, 'Classifier__gamma': param_range,\n",
    "     'Classifier__kernel': ['rbf']}\n",
    "]\n",
    "\n",
    "gs = GridSearchCV(estimator=pipe_svc, param_grid=param_grid,\n",
    "                  scoring='accuracy', cv=10, n_jobs=-1)\n",
    "\n",
    "\n",
    "gs = gs.fit(X_train, y_train)\n",
    "\n",
    "# モデルの最良スコア\n",
    "print(\"Best score: \", gs.best_score_)\n",
    "\n",
    "# 最良スコアとなるパラメータ\n",
    "print(\"Best parameters: \", gs.best_params_)\n"
   ]
  },
  {
   "cell_type": "code",
   "execution_count": 118,
   "metadata": {},
   "outputs": [
    {
     "name": "stdout",
     "output_type": "stream",
     "text": [
      "0.978 (+/-0.020) for {'Classifier__C': 0.1, 'Classifier__kernel': 'linear'}\n",
      "0.978 (+/-0.026) for {'Classifier__C': 1000.0, 'Classifier__gamma': 0.0001, 'Classifier__kernel': 'rbf'}\n",
      "0.976 (+/-0.023) for {'Classifier__C': 1.0, 'Classifier__kernel': 'linear'}\n",
      "0.976 (+/-0.023) for {'Classifier__C': 100.0, 'Classifier__gamma': 0.001, 'Classifier__kernel': 'rbf'}\n",
      "0.976 (+/-0.023) for {'Classifier__C': 1000.0, 'Classifier__gamma': 0.001, 'Classifier__kernel': 'rbf'}\n",
      "0.974 (+/-0.033) for {'Classifier__C': 10.0, 'Classifier__gamma': 0.01, 'Classifier__kernel': 'rbf'}\n",
      "0.971 (+/-0.014) for {'Classifier__C': 10.0, 'Classifier__kernel': 'linear'}\n",
      "0.969 (+/-0.028) for {'Classifier__C': 100.0, 'Classifier__gamma': 0.01, 'Classifier__kernel': 'rbf'}\n",
      "0.967 (+/-0.022) for {'Classifier__C': 1.0, 'Classifier__gamma': 0.01, 'Classifier__kernel': 'rbf'}\n",
      "0.960 (+/-0.023) for {'Classifier__C': 0.01, 'Classifier__kernel': 'linear'}\n"
     ]
    }
   ],
   "source": [
    "# 監注\n",
    "top10 = sorted(gs.grid_scores_, key=lambda x: x[1], reverse=True)[:10]\n",
    "for params, mean_score, scores in top10:\n",
    "    print(\"%0.3f (+/-%0.03f) for %r\" % (mean_score, scores.std(), params))"
   ]
  },
  {
   "cell_type": "code",
   "execution_count": 90,
   "metadata": {},
   "outputs": [
    {
     "name": "stdout",
     "output_type": "stream",
     "text": [
      "Test accuracy: 0.965\n"
     ]
    }
   ],
   "source": [
    "# best_parameter_ が適用されている分類器\n",
    "clf = gs.best_estimator_\n",
    "\n",
    "# 再度トレーニングデータセット学習\n",
    "clf.fit(X_train, y_train)\n",
    "print('Test accuracy: %.3f' % clf.score(X_test, y_test))"
   ]
  },
  {
   "cell_type": "markdown",
   "metadata": {},
   "source": [
    "## 入れ子式の交差検証によるアルゴリズムの選択"
   ]
  },
  {
   "cell_type": "code",
   "execution_count": null,
   "metadata": {},
   "outputs": [],
   "source": [
    "gs = GridSearchCV(estimator=pipe_svc,\n",
    "                  param_grid=param_grid,\n",
    "                  scoring='accuracy',\n",
    "                  cv=2, # 内部で 2分割して検証\n",
    "                  n_jobs=-1)\n",
    "\n",
    "scores = cross_val_score(gs, X_train, y_train, scoring='accuracy', cv=5) # テストデータ全体を5分割して検証\n",
    "print('CV accuracy: %.3f +/- %.3f' % (np.mean(scores), np.std(scores)))"
   ]
  },
  {
   "cell_type": "markdown",
   "metadata": {},
   "source": [
    "### 入れ子式の交差検証でアルゴリズムを比較"
   ]
  },
  {
   "cell_type": "code",
   "execution_count": 127,
   "metadata": {},
   "outputs": [
    {
     "name": "stdout",
     "output_type": "stream",
     "text": [
      "CV accuracy: 0.921 +/- 0.029\n"
     ]
    }
   ],
   "source": [
    "from sklearn.tree import DecisionTreeClassifier\n",
    "# ハイパーパラメータ値として決定木の深さパラメータを指定\n",
    "# グリッドサーチを行う GridSearchCV クラスのインスタンス化\n",
    "\n",
    "gs = GridSearchCV(estimator=DecisionTreeClassifier(random_state=0),\n",
    "                  param_grid=[{'max_depth': [1, 2, 3, 4, 5, 6, 7, None]}],\n",
    "                  scoring='accuracy', cv=2)\n",
    "\n",
    "scores = cross_val_score(gs, X_train, y_train, scoring='accuracy', cv=5)\n",
    "print('CV accuracy: %.3f +/- %.3f' % (np.mean(scores), np.std(scores)))"
   ]
  },
  {
   "cell_type": "markdown",
   "metadata": {},
   "source": [
    "# 様々な評価指標"
   ]
  },
  {
   "cell_type": "markdown",
   "metadata": {},
   "source": [
    "## 混合行列"
   ]
  },
  {
   "cell_type": "markdown",
   "metadata": {},
   "source": [
    "## 分類モデルの適合率と再現率を最適化する\n",
    "\n",
    "$$\n",
    "ERR = \\dfrac{FP + FN}{FP + FN + TP + TN}\n",
    "$$\n",
    "\n",
    "$$\n",
    "ACC = \\dfrac{TP + TN}{FP + FN + TP + TN} = 1 - ERR\n",
    "$$\n",
    "\n",
    "$$\n",
    "FPR = \\dfrac{FP}{N} = \\dfrac{FP}{FP + TN}\n",
    "$$"
   ]
  },
  {
   "cell_type": "code",
   "execution_count": null,
   "metadata": {},
   "outputs": [],
   "source": []
  }
 ],
 "metadata": {
  "celltoolbar": "Slideshow",
  "kernelspec": {
   "display_name": "Python 3",
   "language": "python",
   "name": "python3"
  },
  "language_info": {
   "codemirror_mode": {
    "name": "ipython",
    "version": 3
   },
   "file_extension": ".py",
   "mimetype": "text/x-python",
   "name": "python",
   "nbconvert_exporter": "python",
   "pygments_lexer": "ipython3",
   "version": "3.6.3"
  }
 },
 "nbformat": 4,
 "nbformat_minor": 2
}
